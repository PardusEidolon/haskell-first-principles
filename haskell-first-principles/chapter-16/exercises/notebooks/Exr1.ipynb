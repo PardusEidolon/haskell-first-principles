{
 "cells": [
  {
   "cell_type": "markdown",
   "id": "e57da1a3",
   "metadata": {},
   "source": [
    "# Chapter 16 Exercises"
   ]
  },
  {
   "cell_type": "markdown",
   "id": "fd013c0e",
   "metadata": {},
   "source": [
    "Determine if a valid Functor can be written for the datatype provided."
   ]
  },
  {
   "cell_type": "code",
   "execution_count": null,
   "id": "1f2f9da9",
   "metadata": {},
   "outputs": [],
   "source": [
    "--1.\n",
    "data Bool = False | True\n",
    "\n",
    ":k Bool"
   ]
  },
  {
   "cell_type": "markdown",
   "id": "11531cde",
   "metadata": {},
   "source": [
    "Functors can only work with kinds that have * -> * not * shown above. Therefore a valid functor instance cannot be created. We can however transform the structure if we wanted but that would mean doing the oppisite of what a functor does."
   ]
  },
  {
   "cell_type": "code",
   "execution_count": null,
   "id": "9df9f4f8",
   "metadata": {},
   "outputs": [
    {
     "data": {
      "text/html": [
       "<style>/* Styles used for the Hoogle display in the pager */\n",
       ".hoogle-doc {\n",
       "display: block;\n",
       "padding-bottom: 1.3em;\n",
       "padding-left: 0.4em;\n",
       "}\n",
       ".hoogle-code {\n",
       "display: block;\n",
       "font-family: monospace;\n",
       "white-space: pre;\n",
       "}\n",
       ".hoogle-text {\n",
       "display: block;\n",
       "}\n",
       ".hoogle-name {\n",
       "color: green;\n",
       "font-weight: bold;\n",
       "}\n",
       ".hoogle-head {\n",
       "font-weight: bold;\n",
       "}\n",
       ".hoogle-sub {\n",
       "display: block;\n",
       "margin-left: 0.4em;\n",
       "}\n",
       ".hoogle-package {\n",
       "font-weight: bold;\n",
       "font-style: italic;\n",
       "}\n",
       ".hoogle-module {\n",
       "font-weight: bold;\n",
       "}\n",
       ".hoogle-class {\n",
       "font-weight: bold;\n",
       "}\n",
       ".get-type {\n",
       "color: green;\n",
       "font-weight: bold;\n",
       "font-family: monospace;\n",
       "display: block;\n",
       "white-space: pre-wrap;\n",
       "}\n",
       ".show-type {\n",
       "color: green;\n",
       "font-weight: bold;\n",
       "font-family: monospace;\n",
       "margin-left: 1em;\n",
       "}\n",
       ".mono {\n",
       "font-family: monospace;\n",
       "display: block;\n",
       "}\n",
       ".err-msg {\n",
       "color: red;\n",
       "font-style: italic;\n",
       "font-family: monospace;\n",
       "white-space: pre;\n",
       "display: block;\n",
       "}\n",
       "#unshowable {\n",
       "color: red;\n",
       "font-weight: bold;\n",
       "}\n",
       ".err-msg.in.collapse {\n",
       "padding-top: 0.7em;\n",
       "}\n",
       ".highlight-code {\n",
       "white-space: pre;\n",
       "font-family: monospace;\n",
       "}\n",
       ".suggestion-warning { \n",
       "font-weight: bold;\n",
       "color: rgb(200, 130, 0);\n",
       "}\n",
       ".suggestion-error { \n",
       "font-weight: bold;\n",
       "color: red;\n",
       "}\n",
       ".suggestion-name {\n",
       "font-weight: bold;\n",
       "}\n",
       "</style><span class='get-type'>BoolAndSomethingElse :: * -> *</span>"
      ],
      "text/plain": [
       "BoolAndSomethingElse :: * -> *"
      ]
     },
     "metadata": {},
     "output_type": "display_data"
    },
    {
     "data": {
      "text/plain": [
       "True"
      ]
     },
     "metadata": {},
     "output_type": "display_data"
    },
    {
     "data": {
      "text/plain": [
       "True"
      ]
     },
     "metadata": {},
     "output_type": "display_data"
    },
    {
     "data": {
      "text/plain": [
       "True"
      ]
     },
     "metadata": {},
     "output_type": "display_data"
    },
    {
     "data": {
      "text/plain": [
       "True"
      ]
     },
     "metadata": {},
     "output_type": "display_data"
    }
   ],
   "source": [
    "-- 2.\n",
    "data BoolAndSomethingElse a = False' a | True' a deriving (Show,Eq)\n",
    "\n",
    ":k BoolAndSomethingElse\n",
    "\n",
    "type Bool' = [BoolAndSomethingElse Int]\n",
    "\n",
    "instance Functor BoolAndSomethingElse where\n",
    "    fmap f (False' a) = False' (f a)\n",
    "    fmap f (True' a) = True' (f a)\n",
    "    \n",
    "identity :: Eq a => [a] -> Bool\n",
    "identity x = (fmap id x) == x\n",
    "\n",
    "functorCompose :: (Functor f, (Eq (f c))) => (a -> b) -> (b -> c) -> f a -> Bool\n",
    "functorCompose f g x = (fmap g (fmap f x)) == (fmap (g . f) x)\n",
    "\n",
    "f :: Bool'\n",
    "f = [False' 1]\n",
    "\n",
    "f' :: Bool'\n",
    "f' = [True' 0]\n",
    "\n",
    "identity f\n",
    "identity f'\n",
    "\n",
    "functorCompose id id f\n",
    "functorCompose id id f'"
   ]
  },
  {
   "cell_type": "markdown",
   "id": "54f79f55",
   "metadata": {},
   "source": [
    "Our first valid functor instance! both follows the law of composibility and identity..kinda."
   ]
  },
  {
   "cell_type": "code",
   "execution_count": null,
   "id": "0761ea74",
   "metadata": {},
   "outputs": [],
   "source": [
    "-- 3.\n",
    "data SomethingElse a = Falsish | Truish a deriving (Show,Eq)\n",
    "\n",
    "instance Functor SomethingElse where\n",
    "    fmap _ Falsish = Falsish\n",
    "    fmap f (Truish a) = Truish (f a)\n",
    "\n",
    "fmap id Falsish == Falsish\n",
    "fmap id (Truish 1) == Truish 1\n"
   ]
  },
  {
   "cell_type": "markdown",
   "id": "bfee65b8",
   "metadata": {},
   "source": [
    "This is also a valid functor instance."
   ]
  },
  {
   "cell_type": "code",
   "execution_count": null,
   "id": "24d87331",
   "metadata": {},
   "outputs": [],
   "source": [
    "-- 4.\n",
    "newtype Mu f =InF { outF :: f (Mu f) }\n",
    ":k Mu"
   ]
  },
  {
   "cell_type": "markdown",
   "id": "df56b2f2",
   "metadata": {},
   "source": [
    "`Mu` wouldnt work becuase first its a recursive type and fails to have an approriate kind. However `Weird` does as the `f` is just part of the structure so we can make an instance for it. but im still unsure as Im still challenging my assumptions here."
   ]
  },
  {
   "cell_type": "code",
   "execution_count": 1,
   "id": "44465866",
   "metadata": {},
   "outputs": [
    {
     "data": {
      "text/html": [
       "<style>/* Styles used for the Hoogle display in the pager */\n",
       ".hoogle-doc {\n",
       "display: block;\n",
       "padding-bottom: 1.3em;\n",
       "padding-left: 0.4em;\n",
       "}\n",
       ".hoogle-code {\n",
       "display: block;\n",
       "font-family: monospace;\n",
       "white-space: pre;\n",
       "}\n",
       ".hoogle-text {\n",
       "display: block;\n",
       "}\n",
       ".hoogle-name {\n",
       "color: green;\n",
       "font-weight: bold;\n",
       "}\n",
       ".hoogle-head {\n",
       "font-weight: bold;\n",
       "}\n",
       ".hoogle-sub {\n",
       "display: block;\n",
       "margin-left: 0.4em;\n",
       "}\n",
       ".hoogle-package {\n",
       "font-weight: bold;\n",
       "font-style: italic;\n",
       "}\n",
       ".hoogle-module {\n",
       "font-weight: bold;\n",
       "}\n",
       ".hoogle-class {\n",
       "font-weight: bold;\n",
       "}\n",
       ".get-type {\n",
       "color: green;\n",
       "font-weight: bold;\n",
       "font-family: monospace;\n",
       "display: block;\n",
       "white-space: pre-wrap;\n",
       "}\n",
       ".show-type {\n",
       "color: green;\n",
       "font-weight: bold;\n",
       "font-family: monospace;\n",
       "margin-left: 1em;\n",
       "}\n",
       ".mono {\n",
       "font-family: monospace;\n",
       "display: block;\n",
       "}\n",
       ".err-msg {\n",
       "color: red;\n",
       "font-style: italic;\n",
       "font-family: monospace;\n",
       "white-space: pre;\n",
       "display: block;\n",
       "}\n",
       "#unshowable {\n",
       "color: red;\n",
       "font-weight: bold;\n",
       "}\n",
       ".err-msg.in.collapse {\n",
       "padding-top: 0.7em;\n",
       "}\n",
       ".highlight-code {\n",
       "white-space: pre;\n",
       "font-family: monospace;\n",
       "}\n",
       ".suggestion-warning { \n",
       "font-weight: bold;\n",
       "color: rgb(200, 130, 0);\n",
       "}\n",
       ".suggestion-error { \n",
       "font-weight: bold;\n",
       "color: red;\n",
       "}\n",
       ".suggestion-name {\n",
       "font-weight: bold;\n",
       "}\n",
       "</style><span class='get-type'>D :: *</span>"
      ],
      "text/plain": [
       "D :: *"
      ]
     },
     "metadata": {},
     "output_type": "display_data"
    }
   ],
   "source": [
    "-- 5.\n",
    "import GHC.Arr\n",
    "\n",
    "data D = D (Array Word Word) Int Int\n",
    "\n",
    ":k D"
   ]
  },
  {
   "cell_type": "markdown",
   "id": "97d77d28",
   "metadata": {},
   "source": [
    "It's pretty clear here why this is invalid. `D` has a kind of `*` And we remeber from earlier functors only work with types that are of the kind `* -> *`."
   ]
  },
  {
   "cell_type": "markdown",
   "id": "5755b5e1",
   "metadata": {},
   "source": [
    "##  Argument Rearrangement"
   ]
  },
  {
   "cell_type": "markdown",
   "id": "90355f7a",
   "metadata": {},
   "source": [
    "Rearrange the arguments to the type constructor of the datatype so the Functor instance works."
   ]
  },
  {
   "cell_type": "code",
   "execution_count": null,
   "id": "cca8c7de",
   "metadata": {},
   "outputs": [],
   "source": [
    "-- 1.\n",
    "data Sum a b = First b |Second a deriving Show\n",
    "\n",
    "instance Functor (Sum e) where\n",
    "    fmap f (First a) = First (f a)\n",
    "    fmap f (Second b) = Second b\n",
    "    \n",
    "fmap negate (First 12)\n",
    "fmap negate (Second 12)\n"
   ]
  },
  {
   "cell_type": "code",
   "execution_count": null,
   "id": "58edbb29",
   "metadata": {},
   "outputs": [],
   "source": [
    "-- 2.\n",
    "data Company a b c = \n",
    "    DeepBlue a b |Something c deriving (Show)\n",
    "\n",
    "instance Functor (Company e e') where \n",
    "    fmap f (Something b) = Something (f b)\n",
    "    fmap _ (DeepBlue a c) = DeepBlue a c\n",
    "\n",
    "fmap negate (Something 1)\n",
    "fmap negate (DeepBlue 1 1)"
   ]
  },
  {
   "cell_type": "code",
   "execution_count": null,
   "id": "8fee00b4",
   "metadata": {},
   "outputs": [],
   "source": [
    "-- 3.\n",
    "\n",
    "data More a b = \n",
    "    L b a b | R a b a deriving (Eq, Show)\n",
    "\n",
    "instance Functor (More x) where \n",
    "    fmap f (L a b a') = L (f a) b (f a') \n",
    "    fmap f (R b a b') =R b (f a) b'\n",
    "    \n",
    "fmap (+1) (L 1 2 3)\n"
   ]
  },
  {
   "cell_type": "markdown",
   "id": "0c5ded44",
   "metadata": {},
   "source": [
    "## Functor Instances\n"
   ]
  },
  {
   "cell_type": "markdown",
   "id": "a84fb04a",
   "metadata": {},
   "source": [
    "Write Functor instances for the following datatypes."
   ]
  },
  {
   "cell_type": "code",
   "execution_count": 2,
   "id": "ef6ef888",
   "metadata": {},
   "outputs": [
    {
     "data": {
      "text/plain": [
       "Finance"
      ]
     },
     "metadata": {},
     "output_type": "display_data"
    },
    {
     "data": {
      "text/plain": [
       "Desk 0"
      ]
     },
     "metadata": {},
     "output_type": "display_data"
    },
    {
     "data": {
      "text/plain": [
       "Bloor 1"
      ]
     },
     "metadata": {},
     "output_type": "display_data"
    }
   ],
   "source": [
    "-- 1.\n",
    "\n",
    "data Quant a b = Finance | Desk a | Bloor b deriving (Show, Eq)\n",
    "\n",
    "instance Functor (Quant a) where\n",
    "    fmap _ Finance = Finance\n",
    "    fmap _ (Desk a) = Desk a\n",
    "    fmap f (Bloor b) = Bloor (f b)\n",
    "    \n",
    "fmap (+1) Finance\n",
    "fmap (+1) (Desk 0)\n",
    "fmap (+1) (Bloor 0)"
   ]
  },
  {
   "cell_type": "code",
   "execution_count": null,
   "id": "41eedfe5",
   "metadata": {},
   "outputs": [],
   "source": [
    "-- 2.\n",
    "newtype K a b = K a deriving Show\n",
    "\n",
    ":k K\n",
    "\n",
    "instance Functor (K a) where\n",
    "    fmap _ (K a) = K a\n",
    "    \n",
    "fmap (+1) (K 0)"
   ]
  },
  {
   "cell_type": "markdown",
   "id": "ff9b9b57",
   "metadata": {},
   "source": [
    "In the case that the type constructor is _phantom_ we must then only give this functor identity and no more until we bring back the _b_ in the type _K_"
   ]
  },
  {
   "cell_type": "code",
   "execution_count": null,
   "id": "0e6d4013",
   "metadata": {},
   "outputs": [],
   "source": [
    "-- 3.\n",
    "{-# LANGUAGE FlexibleInstances #-}\n",
    "\n",
    "newtype Flip f a b = Flip (f b a) deriving (Eq, Show) \n",
    "\n",
    "newtype K a b = K a deriving (Eq,Show)\n",
    "\n",
    "instance Functor (Flip K a) where \n",
    "    fmap f (Flip (K a)) = Flip $ K (f a)\n",
    "    \n",
    "fmap (+1) (Flip (K 1))"
   ]
  },
  {
   "cell_type": "code",
   "execution_count": null,
   "id": "4fd3506f",
   "metadata": {},
   "outputs": [],
   "source": [
    "-- 4.\n",
    "data EvilGoateeConst a b = GoatyConst b deriving (Eq,Show)\n",
    "\n",
    "instance Functor (EvilGoateeConst a) where\n",
    "    fmap f (GoatyConst b) = GoatyConst (f b)\n",
    "    \n",
    "fmap (+1) (GoatyConst 0)"
   ]
  },
  {
   "cell_type": "code",
   "execution_count": 3,
   "id": "ab6ee0de",
   "metadata": {},
   "outputs": [
    {
     "data": {
      "text/html": [
       "<style>/* Styles used for the Hoogle display in the pager */\n",
       ".hoogle-doc {\n",
       "display: block;\n",
       "padding-bottom: 1.3em;\n",
       "padding-left: 0.4em;\n",
       "}\n",
       ".hoogle-code {\n",
       "display: block;\n",
       "font-family: monospace;\n",
       "white-space: pre;\n",
       "}\n",
       ".hoogle-text {\n",
       "display: block;\n",
       "}\n",
       ".hoogle-name {\n",
       "color: green;\n",
       "font-weight: bold;\n",
       "}\n",
       ".hoogle-head {\n",
       "font-weight: bold;\n",
       "}\n",
       ".hoogle-sub {\n",
       "display: block;\n",
       "margin-left: 0.4em;\n",
       "}\n",
       ".hoogle-package {\n",
       "font-weight: bold;\n",
       "font-style: italic;\n",
       "}\n",
       ".hoogle-module {\n",
       "font-weight: bold;\n",
       "}\n",
       ".hoogle-class {\n",
       "font-weight: bold;\n",
       "}\n",
       ".get-type {\n",
       "color: green;\n",
       "font-weight: bold;\n",
       "font-family: monospace;\n",
       "display: block;\n",
       "white-space: pre-wrap;\n",
       "}\n",
       ".show-type {\n",
       "color: green;\n",
       "font-weight: bold;\n",
       "font-family: monospace;\n",
       "margin-left: 1em;\n",
       "}\n",
       ".mono {\n",
       "font-family: monospace;\n",
       "display: block;\n",
       "}\n",
       ".err-msg {\n",
       "color: red;\n",
       "font-style: italic;\n",
       "font-family: monospace;\n",
       "white-space: pre;\n",
       "display: block;\n",
       "}\n",
       "#unshowable {\n",
       "color: red;\n",
       "font-weight: bold;\n",
       "}\n",
       ".err-msg.in.collapse {\n",
       "padding-top: 0.7em;\n",
       "}\n",
       ".highlight-code {\n",
       "white-space: pre;\n",
       "font-family: monospace;\n",
       "}\n",
       ".suggestion-warning { \n",
       "font-weight: bold;\n",
       "color: rgb(200, 130, 0);\n",
       "}\n",
       ".suggestion-error { \n",
       "font-weight: bold;\n",
       "color: red;\n",
       "}\n",
       ".suggestion-name {\n",
       "font-weight: bold;\n",
       "}\n",
       "</style><div class=\"suggestion-name\" style=\"clear:both;\">Use newtype instead of data</div><div class=\"suggestion-row\" style=\"float: left;\"><div class=\"suggestion-warning\">Found:</div><div class=\"highlight-code\" id=\"haskell\">data LiftItOut f a\n",
       "  = LiftItOut (f a)\n",
       "  deriving Show</div></div><div class=\"suggestion-row\" style=\"float: left;\"><div class=\"suggestion-warning\">Why Not:</div><div class=\"highlight-code\" id=\"haskell\">newtype LiftItOut f a\n",
       "  = LiftItOut (f a)\n",
       "  deriving Show</div></div>"
      ],
      "text/plain": [
       "Line 2: Use newtype instead of data\n",
       "Found:\n",
       "data LiftItOut f a\n",
       "  = LiftItOut (f a)\n",
       "  deriving Show\n",
       "Why not:\n",
       "newtype LiftItOut f a\n",
       "  = LiftItOut (f a)\n",
       "  deriving Show"
      ]
     },
     "metadata": {},
     "output_type": "display_data"
    },
    {
     "data": {
      "text/plain": [
       "LiftItOut (Just 1)"
      ]
     },
     "metadata": {},
     "output_type": "display_data"
    }
   ],
   "source": [
    "-- 5.\n",
    "data LiftItOut f a = LiftItOut (f a) deriving Show\n",
    "\n",
    "instance Functor f => Functor (LiftItOut f) where\n",
    "    fmap f (LiftItOut fa) = LiftItOut (fmap f fa)\n",
    "    \n",
    "\n",
    "fmap (+1) (LiftItOut (Just 0))"
   ]
  },
  {
   "cell_type": "code",
   "execution_count": null,
   "id": "a437bb55",
   "metadata": {},
   "outputs": [],
   "source": [
    "-- 6.\n",
    "\n",
    "data Parappa f g a = DaWrappa (f a) (g a) deriving (Show,Eq)\n",
    "\n",
    "instance (Functor f, Functor g) => Functor (Parappa f g) where\n",
    "    fmap f (DaWrappa fa ga) = DaWrappa (fmap f fa) (fmap f ga)\n",
    "    \n",
    "fmap (+1) (DaWrappa (Just 2) Nothing)\n",
    "\n",
    "identity :: Eq a => [a] -> IHaskellPrelude.Bool\n",
    "identity x = (fmap id x) == x\n",
    "\n",
    "identity [(DaWrappa (Just 2) Nothing)]"
   ]
  },
  {
   "cell_type": "markdown",
   "id": "51530240",
   "metadata": {},
   "source": [
    "This was just a double wrapped type."
   ]
  },
  {
   "cell_type": "code",
   "execution_count": 4,
   "id": "5767573c",
   "metadata": {},
   "outputs": [
    {
     "data": {
      "text/html": [
       "<style>/* Styles used for the Hoogle display in the pager */\n",
       ".hoogle-doc {\n",
       "display: block;\n",
       "padding-bottom: 1.3em;\n",
       "padding-left: 0.4em;\n",
       "}\n",
       ".hoogle-code {\n",
       "display: block;\n",
       "font-family: monospace;\n",
       "white-space: pre;\n",
       "}\n",
       ".hoogle-text {\n",
       "display: block;\n",
       "}\n",
       ".hoogle-name {\n",
       "color: green;\n",
       "font-weight: bold;\n",
       "}\n",
       ".hoogle-head {\n",
       "font-weight: bold;\n",
       "}\n",
       ".hoogle-sub {\n",
       "display: block;\n",
       "margin-left: 0.4em;\n",
       "}\n",
       ".hoogle-package {\n",
       "font-weight: bold;\n",
       "font-style: italic;\n",
       "}\n",
       ".hoogle-module {\n",
       "font-weight: bold;\n",
       "}\n",
       ".hoogle-class {\n",
       "font-weight: bold;\n",
       "}\n",
       ".get-type {\n",
       "color: green;\n",
       "font-weight: bold;\n",
       "font-family: monospace;\n",
       "display: block;\n",
       "white-space: pre-wrap;\n",
       "}\n",
       ".show-type {\n",
       "color: green;\n",
       "font-weight: bold;\n",
       "font-family: monospace;\n",
       "margin-left: 1em;\n",
       "}\n",
       ".mono {\n",
       "font-family: monospace;\n",
       "display: block;\n",
       "}\n",
       ".err-msg {\n",
       "color: red;\n",
       "font-style: italic;\n",
       "font-family: monospace;\n",
       "white-space: pre;\n",
       "display: block;\n",
       "}\n",
       "#unshowable {\n",
       "color: red;\n",
       "font-weight: bold;\n",
       "}\n",
       ".err-msg.in.collapse {\n",
       "padding-top: 0.7em;\n",
       "}\n",
       ".highlight-code {\n",
       "white-space: pre;\n",
       "font-family: monospace;\n",
       "}\n",
       ".suggestion-warning { \n",
       "font-weight: bold;\n",
       "color: rgb(200, 130, 0);\n",
       "}\n",
       ".suggestion-error { \n",
       "font-weight: bold;\n",
       "color: red;\n",
       "}\n",
       ".suggestion-name {\n",
       "font-weight: bold;\n",
       "}\n",
       "</style><span class='get-type'>IgnoreOne :: (* -> *) -> (* -> *) -> * -> * -> *</span>"
      ],
      "text/plain": [
       "IgnoreOne :: (* -> *) -> (* -> *) -> * -> * -> *"
      ]
     },
     "metadata": {},
     "output_type": "display_data"
    },
    {
     "data": {
      "text/plain": [
       "IgnoringSomething (Just 2) (Just 7)"
      ]
     },
     "metadata": {},
     "output_type": "display_data"
    }
   ],
   "source": [
    "-- 7. \n",
    "data IgnoreOne f g a b = IgnoringSomething (f a) (g b) deriving Show\n",
    "\n",
    ":k IgnoreOne\n",
    "\n",
    "instance Functor g => Functor (IgnoreOne f g a) where\n",
    " fmap f (IgnoringSomething fa gb) = IgnoringSomething fa (fmap f gb)\n",
    " \n",
    "fmap (+1) (IgnoringSomething (Just 2) (Just 6))"
   ]
  },
  {
   "cell_type": "markdown",
   "id": "adbcd391",
   "metadata": {},
   "source": [
    "It's interesting to note that the arguments `f g a` are arpart of the functor instance but not `b`. Beacuse `b` is the arugment to the structure of `g`. so naturally we only need to have `g` having an instance and forget about `f` and `a` and only focus on `g` and `b` as this is the structure were trying to lift and transform. becuase of how haskell works this is going to  be a right associative transformation unless we add some fliiping action with flexible instances and a flip type."
   ]
  },
  {
   "cell_type": "code",
   "execution_count": 5,
   "id": "19b90ea0",
   "metadata": {},
   "outputs": [
    {
     "data": {
      "text/plain": [
       "True"
      ]
     },
     "metadata": {},
     "output_type": "display_data"
    }
   ],
   "source": [
    " -- 8.\n",
    " \n",
    " data Notorious g o a t = Notorious (g o) (g a) (g t) deriving (Show,Eq)\n",
    " \n",
    " instance Functor g => Functor (Notorious g o a) where\n",
    "     fmap f (Notorious go ga gt) = Notorious go ga (fmap f gt)\n",
    "     \n",
    "(fmap id (Notorious Nothing Nothing (Just 2))) == (Notorious Nothing Nothing (Just 2))"
   ]
  },
  {
   "cell_type": "code",
   "execution_count": 6,
   "id": "617bd0f1",
   "metadata": {},
   "outputs": [
    {
     "data": {
      "text/html": [
       "<style>/* Styles used for the Hoogle display in the pager */\n",
       ".hoogle-doc {\n",
       "display: block;\n",
       "padding-bottom: 1.3em;\n",
       "padding-left: 0.4em;\n",
       "}\n",
       ".hoogle-code {\n",
       "display: block;\n",
       "font-family: monospace;\n",
       "white-space: pre;\n",
       "}\n",
       ".hoogle-text {\n",
       "display: block;\n",
       "}\n",
       ".hoogle-name {\n",
       "color: green;\n",
       "font-weight: bold;\n",
       "}\n",
       ".hoogle-head {\n",
       "font-weight: bold;\n",
       "}\n",
       ".hoogle-sub {\n",
       "display: block;\n",
       "margin-left: 0.4em;\n",
       "}\n",
       ".hoogle-package {\n",
       "font-weight: bold;\n",
       "font-style: italic;\n",
       "}\n",
       ".hoogle-module {\n",
       "font-weight: bold;\n",
       "}\n",
       ".hoogle-class {\n",
       "font-weight: bold;\n",
       "}\n",
       ".get-type {\n",
       "color: green;\n",
       "font-weight: bold;\n",
       "font-family: monospace;\n",
       "display: block;\n",
       "white-space: pre-wrap;\n",
       "}\n",
       ".show-type {\n",
       "color: green;\n",
       "font-weight: bold;\n",
       "font-family: monospace;\n",
       "margin-left: 1em;\n",
       "}\n",
       ".mono {\n",
       "font-family: monospace;\n",
       "display: block;\n",
       "}\n",
       ".err-msg {\n",
       "color: red;\n",
       "font-style: italic;\n",
       "font-family: monospace;\n",
       "white-space: pre;\n",
       "display: block;\n",
       "}\n",
       "#unshowable {\n",
       "color: red;\n",
       "font-weight: bold;\n",
       "}\n",
       ".err-msg.in.collapse {\n",
       "padding-top: 0.7em;\n",
       "}\n",
       ".highlight-code {\n",
       "white-space: pre;\n",
       "font-family: monospace;\n",
       "}\n",
       ".suggestion-warning { \n",
       "font-weight: bold;\n",
       "color: rgb(200, 130, 0);\n",
       "}\n",
       ".suggestion-error { \n",
       "font-weight: bold;\n",
       "color: red;\n",
       "}\n",
       ".suggestion-name {\n",
       "font-weight: bold;\n",
       "}\n",
       "</style><div class=\"suggestion-name\" style=\"clear:both;\">Functor law</div><div class=\"suggestion-row\" style=\"float: left;\"><div class=\"suggestion-warning\">Found:</div><div class=\"highlight-code\" id=\"haskell\">fmap id</div></div><div class=\"suggestion-row\" style=\"float: left;\"><div class=\"suggestion-warning\">Why Not:</div><div class=\"highlight-code\" id=\"haskell\">id</div></div>"
      ],
      "text/plain": [
       "Line 9: Functor law\n",
       "Found:\n",
       "fmap id\n",
       "Why not:\n",
       "id"
      ]
     },
     "metadata": {},
     "output_type": "display_data"
    },
    {
     "data": {
      "text/plain": [
       "True"
      ]
     },
     "metadata": {},
     "output_type": "display_data"
    },
    {
     "data": {
      "text/plain": [
       "Cons 3 (Cons 4 Nil)"
      ]
     },
     "metadata": {},
     "output_type": "display_data"
    }
   ],
   "source": [
    "-- 9.\n",
    "\n",
    "data List a = Nil | Cons a (List a) deriving (Show,Eq)\n",
    "\n",
    "instance Functor List where\n",
    "  fmap _ Nil = Nil\n",
    "  fmap f (Cons a la) = Cons (f a) (fmap f la)\n",
    "  \n",
    "fmap id (Cons 1 (Cons 2 Nil)) == Cons 1 (Cons 2 Nil)\n",
    "fmap (+1) (Cons 2 (Cons 3 Nil))"
   ]
  },
  {
   "cell_type": "markdown",
   "id": "fa7d180f",
   "metadata": {},
   "source": [
    "This is an interesting one to note because of its recursion, needed to brush up a bit on this one."
   ]
  },
  {
   "cell_type": "code",
   "execution_count": 7,
   "id": "cf6aa0b1",
   "metadata": {},
   "outputs": [
    {
     "data": {
      "text/plain": [
       "MoreGoats (OneGoat 3) NoGoat (OneGoat 2)"
      ]
     },
     "metadata": {},
     "output_type": "display_data"
    }
   ],
   "source": [
    "-- 10.\n",
    "\n",
    "data GoatLord a = NoGoat | OneGoat a | MoreGoats (GoatLord a)(GoatLord a)(GoatLord a) deriving Show\n",
    "\n",
    "instance Functor GoatLord where\n",
    "fmap _ NoGoat = NoGoat\n",
    "fmap f (OneGoat a) = OneGoat (f a)\n",
    "fmap f (MoreGoats ga gb gc) = MoreGoats (fmap f ga) (fmap f gb) (fmap f gc)\n",
    "\n",
    "fmap (+1) (MoreGoats (OneGoat 2) NoGoat (OneGoat 1))"
   ]
  },
  {
   "cell_type": "markdown",
   "id": "6d35a697",
   "metadata": {},
   "source": [
    "This is a tree of goats."
   ]
  },
  {
   "cell_type": "code",
   "execution_count": null,
   "id": "61900e9b",
   "metadata": {},
   "outputs": [
    {
     "data": {
      "text/plain": [
       "1"
      ]
     },
     "metadata": {},
     "output_type": "display_data"
    },
    {
     "data": {
      "text/plain": [
       "Print String 2"
      ]
     },
     "metadata": {},
     "output_type": "display_data"
    },
    {
     "data": {
      "text/plain": [
       "Print String Halt"
      ]
     },
     "metadata": {},
     "output_type": "display_data"
    },
    {
     "data": {
      "text/html": [
       "<style>/* Styles used for the Hoogle display in the pager */\n",
       ".hoogle-doc {\n",
       "display: block;\n",
       "padding-bottom: 1.3em;\n",
       "padding-left: 0.4em;\n",
       "}\n",
       ".hoogle-code {\n",
       "display: block;\n",
       "font-family: monospace;\n",
       "white-space: pre;\n",
       "}\n",
       ".hoogle-text {\n",
       "display: block;\n",
       "}\n",
       ".hoogle-name {\n",
       "color: green;\n",
       "font-weight: bold;\n",
       "}\n",
       ".hoogle-head {\n",
       "font-weight: bold;\n",
       "}\n",
       ".hoogle-sub {\n",
       "display: block;\n",
       "margin-left: 0.4em;\n",
       "}\n",
       ".hoogle-package {\n",
       "font-weight: bold;\n",
       "font-style: italic;\n",
       "}\n",
       ".hoogle-module {\n",
       "font-weight: bold;\n",
       "}\n",
       ".hoogle-class {\n",
       "font-weight: bold;\n",
       "}\n",
       ".get-type {\n",
       "color: green;\n",
       "font-weight: bold;\n",
       "font-family: monospace;\n",
       "display: block;\n",
       "white-space: pre-wrap;\n",
       "}\n",
       ".show-type {\n",
       "color: green;\n",
       "font-weight: bold;\n",
       "font-family: monospace;\n",
       "margin-left: 1em;\n",
       "}\n",
       ".mono {\n",
       "font-family: monospace;\n",
       "display: block;\n",
       "}\n",
       ".err-msg {\n",
       "color: red;\n",
       "font-style: italic;\n",
       "font-family: monospace;\n",
       "white-space: pre;\n",
       "display: block;\n",
       "}\n",
       "#unshowable {\n",
       "color: red;\n",
       "font-weight: bold;\n",
       "}\n",
       ".err-msg.in.collapse {\n",
       "padding-top: 0.7em;\n",
       "}\n",
       ".highlight-code {\n",
       "white-space: pre;\n",
       "font-family: monospace;\n",
       "}\n",
       ".suggestion-warning { \n",
       "font-weight: bold;\n",
       "color: rgb(200, 130, 0);\n",
       "}\n",
       ".suggestion-error { \n",
       "font-weight: bold;\n",
       "color: red;\n",
       "}\n",
       ".suggestion-name {\n",
       "font-weight: bold;\n",
       "}\n",
       "</style><span class='get-type'>foo :: String -> TalkToMe (TalkToMe Int)</span>"
      ],
      "text/plain": [
       "foo :: String -> TalkToMe (TalkToMe Int)"
      ]
     },
     "metadata": {},
     "output_type": "display_data"
    },
    {
     "data": {
      "text/plain": [
       "Print 1 Read ()"
      ]
     },
     "metadata": {},
     "output_type": "display_data"
    },
    {
     "data": {
      "text/plain": [
       "[2]"
      ]
     },
     "metadata": {},
     "output_type": "display_data"
    }
   ],
   "source": [
    "-- bonus: 11\n",
    "\n",
    "data TalkToMe a = Halt | Print String a | Read (String -> a)\n",
    "\n",
    "instance Show a => Show (TalkToMe a) where\n",
    "    show Halt = \"Halt\"\n",
    "    show (Print s a) = \"Print \" ++ s ++ \" \" ++ show a\n",
    "    show (Read f) = \"Read \" ++ show ()\n",
    "\n",
    "instance Functor TalkToMe where\n",
    "    fmap _ Halt = Halt\n",
    "    fmap f (Print s a) = Print s (f a)\n",
    "    fmap f (Read g) = Read (f . g)\n",
    "    \n",
    "read \"1\" :: Integer\n",
    "\n",
    "fmap (+1) (Print \"String\" 1)\n",
    "\n",
    "Print \"String\" Halt\n",
    "\n",
    "foo :: String -> TalkToMe (TalkToMe Int)\n",
    "foo s = Print s (Read (\\x -> read x :: Int))\n",
    "\n",
    ":t foo\n",
    "\n",
    "foo \"1\""
   ]
  },
  {
   "cell_type": "markdown",
   "id": "371d2bb0",
   "metadata": {},
   "source": [
    "### Note\n",
    "Well to be honest I havent the slightest idea of how functions as types works the show instance doesnt want to seem to work so I can cheaply derive and instance from it. placing unit as a dummy value in the show instance instance for now works fine."
   ]
  }
 ],
 "metadata": {
  "kernelspec": {
   "display_name": "Haskell",
   "language": "haskell",
   "name": "haskell"
  },
  "language_info": {
   "codemirror_mode": "ihaskell",
   "file_extension": ".hs",
   "mimetype": "text/x-haskell",
   "name": "haskell",
   "pygments_lexer": "Haskell",
   "version": "8.10.7"
  }
 },
 "nbformat": 4,
 "nbformat_minor": 5
}
